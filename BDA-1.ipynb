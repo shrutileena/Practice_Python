{
 "cells": [
  {
   "cell_type": "code",
   "execution_count": 30,
   "metadata": {},
   "outputs": [],
   "source": [
    "import os\n",
    "import numpy as np\n",
    "import pandas as pd\n",
    "import matplotlib.pyplot as plt"
   ]
  },
  {
   "cell_type": "code",
   "execution_count": 32,
   "metadata": {},
   "outputs": [
    {
     "name": "stdout",
     "output_type": "stream",
     "text": [
      "                State  Confirmed  Active  Discharged  Deaths\n",
      "0      Andhra Pradesh       1583    1062         488      33\n",
      "1               Bihar        517     396         117       4\n",
      "2               Delhi       4549    3123        1362      64\n",
      "3             Gujarat       5428    4096        1042     290\n",
      "4             Haryana        442     192         245       5\n",
      "5   Jammu and Kashmir        701     406         287       8\n",
      "6           Jharkhand        115      85          27       3\n",
      "7           Karnataka        614     295         293      25\n",
      "8              Kerala        500      95         401       4\n",
      "9      Madhya Pradesh       2837    1883         798     156\n",
      "10        Maharashtra      12974   10311        2115     548\n",
      "11             Odisha        162     101          60       1\n",
      "12             Punjab       1102     964         117      21\n",
      "13          Rajasthan       2886    1459        1356      71\n",
      "14         Tamil Nadu       3023    1614        1379      30\n",
      "15          Telengana       1082     508         545      29\n",
      "16      Uttar Pradesh       2645    1848         754      43\n",
      "17        West Bengal        963     762         151      50\n"
     ]
    }
   ],
   "source": [
    "d = pd.read_csv('covid.csv')\n",
    "print(d)"
   ]
  },
  {
   "cell_type": "code",
   "execution_count": 33,
   "metadata": {},
   "outputs": [
    {
     "name": "stdout",
     "output_type": "stream",
     "text": [
      "    Confirmed  Active  Discharged  Deaths\n",
      "0        1583    1062         488      33\n",
      "1         517     396         117       4\n",
      "2        4549    3123        1362      64\n",
      "3        5428    4096        1042     290\n",
      "4         442     192         245       5\n",
      "5         701     406         287       8\n",
      "6         115      85          27       3\n",
      "7         614     295         293      25\n",
      "8         500      95         401       4\n",
      "9        2837    1883         798     156\n",
      "10      12974   10311        2115     548\n",
      "11        162     101          60       1\n",
      "12       1102     964         117      21\n",
      "13       2886    1459        1356      71\n",
      "14       3023    1614        1379      30\n",
      "15       1082     508         545      29\n",
      "16       2645    1848         754      43\n",
      "17        963     762         151      50\n"
     ]
    }
   ],
   "source": [
    "df = pd.DataFrame(d, columns = ['Confirmed', 'Active', 'Discharged', 'Deaths'])\n",
    "print(df)"
   ]
  },
  {
   "cell_type": "code",
   "execution_count": 34,
   "metadata": {},
   "outputs": [
    {
     "name": "stdout",
     "output_type": "stream",
     "text": [
      "Index(['Confirmed', 'Active', 'Discharged', 'Deaths'], dtype='object')\n"
     ]
    }
   ],
   "source": [
    "print(df.columns)"
   ]
  },
  {
   "cell_type": "code",
   "execution_count": 35,
   "metadata": {
    "scrolled": true
   },
   "outputs": [
    {
     "data": {
      "text/html": [
       "<div>\n",
       "<style scoped>\n",
       "    .dataframe tbody tr th:only-of-type {\n",
       "        vertical-align: middle;\n",
       "    }\n",
       "\n",
       "    .dataframe tbody tr th {\n",
       "        vertical-align: top;\n",
       "    }\n",
       "\n",
       "    .dataframe thead th {\n",
       "        text-align: right;\n",
       "    }\n",
       "</style>\n",
       "<table border=\"1\" class=\"dataframe\">\n",
       "  <thead>\n",
       "    <tr style=\"text-align: right;\">\n",
       "      <th></th>\n",
       "      <th>Confirmed</th>\n",
       "      <th>Active</th>\n",
       "      <th>Discharged</th>\n",
       "      <th>Deaths</th>\n",
       "    </tr>\n",
       "  </thead>\n",
       "  <tbody>\n",
       "    <tr>\n",
       "      <th>0</th>\n",
       "      <td>1583</td>\n",
       "      <td>1062</td>\n",
       "      <td>488</td>\n",
       "      <td>33</td>\n",
       "    </tr>\n",
       "    <tr>\n",
       "      <th>1</th>\n",
       "      <td>517</td>\n",
       "      <td>396</td>\n",
       "      <td>117</td>\n",
       "      <td>4</td>\n",
       "    </tr>\n",
       "    <tr>\n",
       "      <th>2</th>\n",
       "      <td>4549</td>\n",
       "      <td>3123</td>\n",
       "      <td>1362</td>\n",
       "      <td>64</td>\n",
       "    </tr>\n",
       "    <tr>\n",
       "      <th>3</th>\n",
       "      <td>5428</td>\n",
       "      <td>4096</td>\n",
       "      <td>1042</td>\n",
       "      <td>290</td>\n",
       "    </tr>\n",
       "    <tr>\n",
       "      <th>4</th>\n",
       "      <td>442</td>\n",
       "      <td>192</td>\n",
       "      <td>245</td>\n",
       "      <td>5</td>\n",
       "    </tr>\n",
       "    <tr>\n",
       "      <th>5</th>\n",
       "      <td>701</td>\n",
       "      <td>406</td>\n",
       "      <td>287</td>\n",
       "      <td>8</td>\n",
       "    </tr>\n",
       "    <tr>\n",
       "      <th>6</th>\n",
       "      <td>115</td>\n",
       "      <td>85</td>\n",
       "      <td>27</td>\n",
       "      <td>3</td>\n",
       "    </tr>\n",
       "    <tr>\n",
       "      <th>7</th>\n",
       "      <td>614</td>\n",
       "      <td>295</td>\n",
       "      <td>293</td>\n",
       "      <td>25</td>\n",
       "    </tr>\n",
       "    <tr>\n",
       "      <th>8</th>\n",
       "      <td>500</td>\n",
       "      <td>95</td>\n",
       "      <td>401</td>\n",
       "      <td>4</td>\n",
       "    </tr>\n",
       "    <tr>\n",
       "      <th>9</th>\n",
       "      <td>2837</td>\n",
       "      <td>1883</td>\n",
       "      <td>798</td>\n",
       "      <td>156</td>\n",
       "    </tr>\n",
       "  </tbody>\n",
       "</table>\n",
       "</div>"
      ],
      "text/plain": [
       "   Confirmed  Active  Discharged  Deaths\n",
       "0       1583    1062         488      33\n",
       "1        517     396         117       4\n",
       "2       4549    3123        1362      64\n",
       "3       5428    4096        1042     290\n",
       "4        442     192         245       5\n",
       "5        701     406         287       8\n",
       "6        115      85          27       3\n",
       "7        614     295         293      25\n",
       "8        500      95         401       4\n",
       "9       2837    1883         798     156"
      ]
     },
     "execution_count": 35,
     "metadata": {},
     "output_type": "execute_result"
    }
   ],
   "source": [
    "df.head(10)"
   ]
  },
  {
   "cell_type": "code",
   "execution_count": 36,
   "metadata": {},
   "outputs": [
    {
     "data": {
      "text/html": [
       "<div>\n",
       "<style scoped>\n",
       "    .dataframe tbody tr th:only-of-type {\n",
       "        vertical-align: middle;\n",
       "    }\n",
       "\n",
       "    .dataframe tbody tr th {\n",
       "        vertical-align: top;\n",
       "    }\n",
       "\n",
       "    .dataframe thead th {\n",
       "        text-align: right;\n",
       "    }\n",
       "</style>\n",
       "<table border=\"1\" class=\"dataframe\">\n",
       "  <thead>\n",
       "    <tr style=\"text-align: right;\">\n",
       "      <th></th>\n",
       "      <th>Confirmed</th>\n",
       "      <th>Active</th>\n",
       "      <th>Discharged</th>\n",
       "      <th>Deaths</th>\n",
       "    </tr>\n",
       "  </thead>\n",
       "  <tbody>\n",
       "    <tr>\n",
       "      <th>8</th>\n",
       "      <td>500</td>\n",
       "      <td>95</td>\n",
       "      <td>401</td>\n",
       "      <td>4</td>\n",
       "    </tr>\n",
       "    <tr>\n",
       "      <th>9</th>\n",
       "      <td>2837</td>\n",
       "      <td>1883</td>\n",
       "      <td>798</td>\n",
       "      <td>156</td>\n",
       "    </tr>\n",
       "    <tr>\n",
       "      <th>10</th>\n",
       "      <td>12974</td>\n",
       "      <td>10311</td>\n",
       "      <td>2115</td>\n",
       "      <td>548</td>\n",
       "    </tr>\n",
       "    <tr>\n",
       "      <th>11</th>\n",
       "      <td>162</td>\n",
       "      <td>101</td>\n",
       "      <td>60</td>\n",
       "      <td>1</td>\n",
       "    </tr>\n",
       "    <tr>\n",
       "      <th>12</th>\n",
       "      <td>1102</td>\n",
       "      <td>964</td>\n",
       "      <td>117</td>\n",
       "      <td>21</td>\n",
       "    </tr>\n",
       "    <tr>\n",
       "      <th>13</th>\n",
       "      <td>2886</td>\n",
       "      <td>1459</td>\n",
       "      <td>1356</td>\n",
       "      <td>71</td>\n",
       "    </tr>\n",
       "    <tr>\n",
       "      <th>14</th>\n",
       "      <td>3023</td>\n",
       "      <td>1614</td>\n",
       "      <td>1379</td>\n",
       "      <td>30</td>\n",
       "    </tr>\n",
       "    <tr>\n",
       "      <th>15</th>\n",
       "      <td>1082</td>\n",
       "      <td>508</td>\n",
       "      <td>545</td>\n",
       "      <td>29</td>\n",
       "    </tr>\n",
       "    <tr>\n",
       "      <th>16</th>\n",
       "      <td>2645</td>\n",
       "      <td>1848</td>\n",
       "      <td>754</td>\n",
       "      <td>43</td>\n",
       "    </tr>\n",
       "    <tr>\n",
       "      <th>17</th>\n",
       "      <td>963</td>\n",
       "      <td>762</td>\n",
       "      <td>151</td>\n",
       "      <td>50</td>\n",
       "    </tr>\n",
       "  </tbody>\n",
       "</table>\n",
       "</div>"
      ],
      "text/plain": [
       "    Confirmed  Active  Discharged  Deaths\n",
       "8         500      95         401       4\n",
       "9        2837    1883         798     156\n",
       "10      12974   10311        2115     548\n",
       "11        162     101          60       1\n",
       "12       1102     964         117      21\n",
       "13       2886    1459        1356      71\n",
       "14       3023    1614        1379      30\n",
       "15       1082     508         545      29\n",
       "16       2645    1848         754      43\n",
       "17        963     762         151      50"
      ]
     },
     "execution_count": 36,
     "metadata": {},
     "output_type": "execute_result"
    }
   ],
   "source": [
    "df.tail(10)"
   ]
  },
  {
   "cell_type": "code",
   "execution_count": 38,
   "metadata": {},
   "outputs": [
    {
     "data": {
      "text/plain": [
       "(18, 4)"
      ]
     },
     "execution_count": 38,
     "metadata": {},
     "output_type": "execute_result"
    }
   ],
   "source": [
    "df.shape"
   ]
  },
  {
   "cell_type": "code",
   "execution_count": 40,
   "metadata": {},
   "outputs": [
    {
     "data": {
      "text/plain": [
       "<function matplotlib.pyplot.show(*args, **kw)>"
      ]
     },
     "execution_count": 40,
     "metadata": {},
     "output_type": "execute_result"
    },
    {
     "data": {
      "image/png": "[encoded data removed]",
      "text/plain": [
       "<Figure size 432x288 with 1 Axes>"
      ]
     },
     "metadata": {},
     "output_type": "display_data"
    }
   ],
   "source": [
    "labels = 'Confirmed', 'Active', 'Discharged', 'Deaths'\n",
    "sizes = [50, 40, 8, 2]\n",
    "colors = ['#CF5D8F', '#9674C7', '#A4EDD6', '#ACBA33']\n",
    "explode = (0.2, 0, 0, 0)\n",
    "\n",
    "plt.pie(sizes, explode=explode, labels=labels, colors=colors, autopct='% 1.1f%%', shadow=True, startangle=140)\n",
    "plt.axis('equal')\n",
    "plt.show"
   ]
  },
  {
   "cell_type": "code",
   "execution_count": null,
   "metadata": {},
   "outputs": [],
   "source": []
  }
 ],
 "metadata": {
  "kernelspec": {
   "display_name": "Python 3",
   "language": "python",
   "name": "python3"
  },
  "language_info": {
   "codemirror_mode": {
    "name": "ipython",
    "version": 3
   },
   "file_extension": ".py",
   "mimetype": "text/x-python",
   "name": "python",
   "nbconvert_exporter": "python",
   "pygments_lexer": "ipython3",
   "version": "3.7.6"
  }
 },
 "nbformat": 4,
 "nbformat_minor": 4
}
